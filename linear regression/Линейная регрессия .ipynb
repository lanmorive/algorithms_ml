{
 "cells": [
  {
   "cell_type": "code",
   "execution_count": 1,
   "id": "33f7c4bd",
   "metadata": {},
   "outputs": [],
   "source": [
    "import pandas as pd\n",
    "import numpy as np\n",
    "class MyLineReg():\n",
    "    def __init__(self,n_iter = 100,learning_rate = 0.1,weights = None,metric = None):\n",
    "        self.n_iter = n_iter\n",
    "        self.learning_rate = learning_rate\n",
    "        self.weights = weights\n",
    "        self.metric = metric\n",
    "    @staticmethod\n",
    "    def mae(y,y_pred):\n",
    "        return np.mean(abs(y - y_pred))\n",
    "    @staticmethod\n",
    "    def mse(y,y_pred):\n",
    "        return np.mean((y-y_pred)**2)\n",
    "    @staticmethod\n",
    "    def rmse(y,y_pred):\n",
    "        return (np.mean((y-y_pred)**2))**0.5\n",
    "    @staticmethod\n",
    "    def mape(y,y_pred):\n",
    "        return 100/len(y_pred)*np.sum(abs((y-y_pred)/y))\n",
    "    @staticmethod\n",
    "    def r2(y,y_pred):\n",
    "        return (1 - np.sum((y - y_pred)**2) / np.sum((y - np.mean(y))**2))\n",
    "    def fit(self,X,y,verbose=False):\n",
    "        X = X.copy()\n",
    "        X.insert(0,'0',1)\n",
    "        dict_func = {'mae': MyLineReg.mae,\n",
    "        'mse': MyLineReg.mse,\n",
    "        'rmse': MyLineReg.rmse,\n",
    "        'mape': MyLineReg.mape,\n",
    "        'r2': MyLineReg.r2}\n",
    "        select_func = dict_func[self.metric]\n",
    "        self.weights = np.ones(X.shape[1])\n",
    "        if verbose ==True:\n",
    "            predict = X.dot(self.weights)\n",
    "            print(f'start | loss: {1/(X.shape[0])*np.sum((predict-y)**2)}')\n",
    "        count = 0\n",
    "        for i in range(self.n_iter):\n",
    "            predict = X.dot(self.weights)\n",
    "            error = (predict - y)\n",
    "            Mse = np.mean(error**2)\n",
    "            grad = 2/X.shape[0] * error.dot(X)\n",
    "            self.weights -= self.learning_rate * grad\n",
    "            if verbose ==True:\n",
    "                if self.metric == None:\n",
    "                    if count%100 == 0:\n",
    "                        print(f'{count} | loss: {Mse}')\n",
    "                else:\n",
    "                    if count%100 == 0:\n",
    "                        print(f'{count} | loss: {Mse}|{self.metric}:{select_func(y,predict)}')\n",
    "                count += 1\n",
    "        self.best_metrc = select_func(y,X.dot(self.weights))\n",
    "    def predict(self,X):\n",
    "        X= X.copy()\n",
    "        X.insert(0,'0',1)\n",
    "        return X.dot(self.weights)\n",
    "        \n",
    "    def get_coef(self):\n",
    "        return self.weights[1:len(self.weights)]\n",
    "    def get_best_score(self):\n",
    "        return self.best_metrc\n",
    "        \n",
    "    def __str__(self):\n",
    "        return f\"MyLineReg class: n_iter={self.n_iter}, learning_rate={self.learning_rate},weights ={self.weights},metric = {self.metric}\"\n",
    "\n",
    "\n",
    "\n",
    "\n",
    "\n"
   ]
  },
  {
   "cell_type": "code",
   "execution_count": 2,
   "id": "2228ad95",
   "metadata": {},
   "outputs": [
    {
     "name": "stdout",
     "output_type": "stream",
     "text": [
      "MyLineReg class: n_iter=100, learning_rate=0.1,weights =None,metric = None\n"
     ]
    }
   ],
   "source": [
    "print(MyLineReg())"
   ]
  },
  {
   "cell_type": "code",
   "execution_count": 11,
   "id": "c63029bf",
   "metadata": {},
   "outputs": [],
   "source": [
    "linea =MyLineReg(n_iter = 1000, learning_rate = 0.1,metric = 'mae')"
   ]
  },
  {
   "cell_type": "code",
   "execution_count": 12,
   "id": "94113240",
   "metadata": {},
   "outputs": [
    {
     "data": {
      "text/html": [
       "<div>\n",
       "<style scoped>\n",
       "    .dataframe tbody tr th:only-of-type {\n",
       "        vertical-align: middle;\n",
       "    }\n",
       "\n",
       "    .dataframe tbody tr th {\n",
       "        vertical-align: top;\n",
       "    }\n",
       "\n",
       "    .dataframe thead th {\n",
       "        text-align: right;\n",
       "    }\n",
       "</style>\n",
       "<table border=\"1\" class=\"dataframe\">\n",
       "  <thead>\n",
       "    <tr style=\"text-align: right;\">\n",
       "      <th></th>\n",
       "      <th>feature1</th>\n",
       "      <th>feature2</th>\n",
       "    </tr>\n",
       "  </thead>\n",
       "  <tbody>\n",
       "    <tr>\n",
       "      <th>0</th>\n",
       "      <td>0.548814</td>\n",
       "      <td>0.677817</td>\n",
       "    </tr>\n",
       "    <tr>\n",
       "      <th>1</th>\n",
       "      <td>0.715189</td>\n",
       "      <td>0.270008</td>\n",
       "    </tr>\n",
       "    <tr>\n",
       "      <th>2</th>\n",
       "      <td>0.602763</td>\n",
       "      <td>0.735194</td>\n",
       "    </tr>\n",
       "    <tr>\n",
       "      <th>3</th>\n",
       "      <td>0.544883</td>\n",
       "      <td>0.962189</td>\n",
       "    </tr>\n",
       "    <tr>\n",
       "      <th>4</th>\n",
       "      <td>0.423655</td>\n",
       "      <td>0.248753</td>\n",
       "    </tr>\n",
       "  </tbody>\n",
       "</table>\n",
       "</div>"
      ],
      "text/plain": [
       "   feature1  feature2\n",
       "0  0.548814  0.677817\n",
       "1  0.715189  0.270008\n",
       "2  0.602763  0.735194\n",
       "3  0.544883  0.962189\n",
       "4  0.423655  0.248753"
      ]
     },
     "execution_count": 12,
     "metadata": {},
     "output_type": "execute_result"
    }
   ],
   "source": [
    "# Создаем простой датафрейм с двумя признаками и одним целевым столбцом\n",
    "np.random.seed(0) # Для воспроизводимости результатов\n",
    "X = pd.DataFrame({\n",
    "    'feature1': np.random.rand(100),\n",
    "    'feature2': np.random.rand(100)\n",
    "})\n",
    "\n",
    "# Создаем целевую переменную как линейную комбинацию признаков с некоторым шумом\n",
    "y = 2 * X['feature1'] + 3 * X['feature2'] + np.random.randn(100) * 0.5\n",
    "\n",
    "X.head()"
   ]
  },
  {
   "cell_type": "code",
   "execution_count": 13,
   "id": "c1afd5ba",
   "metadata": {},
   "outputs": [
    {
     "name": "stdout",
     "output_type": "stream",
     "text": [
      "start | loss: 0.7392383477312309\n",
      "0 | loss: 0.7392383477312309|mae:0.7140082750081017\n",
      "100 | loss: 0.23783767664021208|mae:0.3944809563432544\n",
      "200 | loss: 0.21206691850102985|mae:0.37267823893141405\n",
      "300 | loss: 0.2084942903546603|mae:0.3726465310037086\n",
      "400 | loss: 0.2079881360927682|mae:0.372865517563604\n",
      "500 | loss: 0.20791607208520746|mae:0.37305394081588694\n",
      "600 | loss: 0.20790580063772737|mae:0.37312419056725815\n",
      "700 | loss: 0.20790433626671792|mae:0.3731505566803224\n",
      "800 | loss: 0.20790412748416742|mae:0.37316048393055745\n",
      "900 | loss: 0.2079040977166567|mae:0.37316422733929433\n"
     ]
    }
   ],
   "source": [
    "linea.fit(X,y,verbose=True)"
   ]
  },
  {
   "cell_type": "code",
   "execution_count": 14,
   "id": "85f81516",
   "metadata": {},
   "outputs": [
    {
     "data": {
      "text/plain": [
       "feature1    1.724118\n",
       "feature2    2.870500\n",
       "dtype: float64"
      ]
     },
     "execution_count": 14,
     "metadata": {},
     "output_type": "execute_result"
    }
   ],
   "source": [
    "linea.get_coef()"
   ]
  },
  {
   "cell_type": "code",
   "execution_count": 15,
   "id": "aec3887e",
   "metadata": {},
   "outputs": [],
   "source": [
    "y_pred = linea.predict(X)"
   ]
  },
  {
   "cell_type": "code",
   "execution_count": 16,
   "id": "c8bfe976",
   "metadata": {},
   "outputs": [
    {
     "data": {
      "text/plain": [
       "0.37316563992692037"
      ]
     },
     "execution_count": 16,
     "metadata": {},
     "output_type": "execute_result"
    }
   ],
   "source": [
    "linea.get_best_score()"
   ]
  },
  {
   "cell_type": "code",
   "execution_count": null,
   "id": "669a6963",
   "metadata": {},
   "outputs": [],
   "source": []
  },
  {
   "cell_type": "code",
   "execution_count": null,
   "id": "87713451",
   "metadata": {},
   "outputs": [],
   "source": []
  },
  {
   "cell_type": "code",
   "execution_count": null,
   "id": "e7cf0cc4",
   "metadata": {},
   "outputs": [],
   "source": []
  }
 ],
 "metadata": {
  "kernelspec": {
   "display_name": "Python 3 (ipykernel)",
   "language": "python",
   "name": "python3"
  },
  "language_info": {
   "codemirror_mode": {
    "name": "ipython",
    "version": 3
   },
   "file_extension": ".py",
   "mimetype": "text/x-python",
   "name": "python",
   "nbconvert_exporter": "python",
   "pygments_lexer": "ipython3",
   "version": "3.11.5"
  }
 },
 "nbformat": 4,
 "nbformat_minor": 5
}
